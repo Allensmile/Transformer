{
 "cells": [
  {
   "cell_type": "code",
   "execution_count": null,
   "metadata": {},
   "outputs": [],
   "source": [
    "!floyd run --data samlynnevans/datasets/translationdata/1:trans_data"
   ]
  },
  {
   "cell_type": "markdown",
   "metadata": {},
   "source": [
    "Click on the above line and hit shift+enter.\n",
    "\n",
    "The model will then begin to train on the sample data of 150,000 French-English sentence pairs and run for 10 epochs. This should be long enough to build a simple translator.\n",
    "\n",
    "As the model trains, weights will be saved automatically every 15 minutes and at the end of each epoch. You need to wait for the loss to reach under 1.5 to start seeing some results.\n",
    "\n",
    "\n",
    "When you have finished training, you can download these weights into this Workspace by opening a terminal and writing this command:\n",
    "\n",
    "floyd data clone JOBNAME\n",
    "    \n",
    "The name of your job will be written above (if you've run the first command) after where it says 'floyd logs'. It will be formatted like this USERNAME/projects/PROJECTNAME/JOBNUMBER\n",
    "\n",
    "You can then test the model by opening the terminal and running this command to setup the environment:\n",
    "spacy download en && spacy download fr\n",
    "\n",
    "Then this command to test the model:\n",
    "python translate.py -load_weights weights -src_lang en -trg_lang fr -floyd\n",
    "\n",
    "And if you want to test it on the CPU add the -no_cuda flag to the above command.\n",
    "\n",
    "if you'd like to train the model for more epochs with the saved weights, you will need to mount them. Follow the steps on this page https://docs.floydhub.com/guides/data/mounting_data/#mounting-the-output-of-another-job.\n",
    "\n",
    "You will then need to run the command in the yml file with -load_weights /floyd/input/DIRNAME"
   ]
  }
 ],
 "metadata": {
  "kernelspec": {
   "display_name": "Python 3",
   "language": "python",
   "name": "python3"
  },
  "language_info": {
   "codemirror_mode": {
    "name": "ipython",
    "version": 3
   },
   "file_extension": ".py",
   "mimetype": "text/x-python",
   "name": "python",
   "nbconvert_exporter": "python",
   "pygments_lexer": "ipython3",
   "version": "3.6.5"
  }
 },
 "nbformat": 4,
 "nbformat_minor": 2
}
