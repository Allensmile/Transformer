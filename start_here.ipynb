{
 "cells": [
  {
   "cell_type": "code",
   "execution_count": null,
   "metadata": {},
   "outputs": [],
   "source": [
    "!floyd run --data samlynnevans/datasets/translationdata/1:trans_data"
   ]
  },
  {
   "cell_type": "markdown",
   "metadata": {},
   "source": [
    "Click on the above line and hit shift+enter.\n",
    "\n",
    "The model will then begin to train on the sample data of 150,000 French-English sentence pairs and run for 10 epochs. This should be long enough to build a simple translator.\n",
    "\n",
    "As the model trains, weights will be saved automatically every 15 minutes and at the end of each epoch. When you have finished training, you can download these weights into this Workspace by opening a terminal and writing this command:\n",
    "\n",
    "floyd data clone <JOBNAME>\n",
    "    \n",
    "The name of your job will be written above (if you've run the first command) after where it says 'floyd logs'.\n",
    "\n",
    "You can then test the model by opening the terminal and running this command to setup the environment:\n",
    "spacy download en && spacy download fr\n",
    "\n",
    "Then this command to test the model:\n",
    "python translate.py -load_weights weights -src_lang en -trg_lang fr\n",
    "\n",
    "if you'd like to train the model for more epochs, or use your own datasets, consult the README."
   ]
  }
 ],
 "metadata": {
  "kernelspec": {
   "display_name": "Python 3",
   "language": "python",
   "name": "python3"
  },
  "language_info": {
   "codemirror_mode": {
    "name": "ipython",
    "version": 3
   },
   "file_extension": ".py",
   "mimetype": "text/x-python",
   "name": "python",
   "nbconvert_exporter": "python",
   "pygments_lexer": "ipython3",
   "version": "3.6.5"
  }
 },
 "nbformat": 4,
 "nbformat_minor": 2
}
